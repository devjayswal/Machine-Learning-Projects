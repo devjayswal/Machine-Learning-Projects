{
 "cells": [
  {
   "cell_type": "code",
   "execution_count": 1,
   "id": "480f6176bff88930",
   "metadata": {
    "ExecuteTime": {
     "end_time": "2024-03-28T02:39:12.943594Z",
     "start_time": "2024-03-28T02:39:12.936968Z"
    },
    "collapsed": false
   },
   "outputs": [],
   "source": [
    "# Importing the libraries\n",
    "import numpy as np\n",
    "import matplotlib.pyplot as plt\n",
    "import pandas as pd\n",
    "from sklearn.model_selection import train_test_split\n",
    "from sklearn.metrics import confusion_matrix, accuracy_score, classification_report"
   ]
  },
  {
   "cell_type": "code",
   "execution_count": 19,
   "id": "4024b89f28429858",
   "metadata": {
    "ExecuteTime": {
     "end_time": "2024-03-28T02:39:15.439597Z",
     "start_time": "2024-03-28T02:39:13.248836Z"
    },
    "collapsed": false
   },
   "outputs": [
    {
     "data": {
      "text/html": [
       "<div>\n",
       "<style scoped>\n",
       "    .dataframe tbody tr th:only-of-type {\n",
       "        vertical-align: middle;\n",
       "    }\n",
       "\n",
       "    .dataframe tbody tr th {\n",
       "        vertical-align: top;\n",
       "    }\n",
       "\n",
       "    .dataframe thead th {\n",
       "        text-align: right;\n",
       "    }\n",
       "</style>\n",
       "<table border=\"1\" class=\"dataframe\">\n",
       "  <thead>\n",
       "    <tr style=\"text-align: right;\">\n",
       "      <th></th>\n",
       "      <th>Time</th>\n",
       "      <th>V1</th>\n",
       "      <th>V2</th>\n",
       "      <th>V3</th>\n",
       "      <th>V4</th>\n",
       "      <th>V5</th>\n",
       "      <th>V6</th>\n",
       "      <th>V7</th>\n",
       "      <th>V8</th>\n",
       "      <th>V9</th>\n",
       "      <th>...</th>\n",
       "      <th>V21</th>\n",
       "      <th>V22</th>\n",
       "      <th>V23</th>\n",
       "      <th>V24</th>\n",
       "      <th>V25</th>\n",
       "      <th>V26</th>\n",
       "      <th>V27</th>\n",
       "      <th>V28</th>\n",
       "      <th>Amount</th>\n",
       "      <th>Class</th>\n",
       "    </tr>\n",
       "  </thead>\n",
       "  <tbody>\n",
       "    <tr>\n",
       "      <th>count</th>\n",
       "      <td>284807.000000</td>\n",
       "      <td>2.848070e+05</td>\n",
       "      <td>2.848070e+05</td>\n",
       "      <td>2.848070e+05</td>\n",
       "      <td>2.848070e+05</td>\n",
       "      <td>2.848070e+05</td>\n",
       "      <td>2.848070e+05</td>\n",
       "      <td>2.848070e+05</td>\n",
       "      <td>2.848070e+05</td>\n",
       "      <td>2.848070e+05</td>\n",
       "      <td>...</td>\n",
       "      <td>2.848070e+05</td>\n",
       "      <td>2.848070e+05</td>\n",
       "      <td>2.848070e+05</td>\n",
       "      <td>2.848070e+05</td>\n",
       "      <td>2.848070e+05</td>\n",
       "      <td>2.848070e+05</td>\n",
       "      <td>2.848070e+05</td>\n",
       "      <td>2.848070e+05</td>\n",
       "      <td>284807.000000</td>\n",
       "      <td>284807.000000</td>\n",
       "    </tr>\n",
       "    <tr>\n",
       "      <th>mean</th>\n",
       "      <td>94813.859575</td>\n",
       "      <td>1.168375e-15</td>\n",
       "      <td>3.416908e-16</td>\n",
       "      <td>-1.379537e-15</td>\n",
       "      <td>2.074095e-15</td>\n",
       "      <td>9.604066e-16</td>\n",
       "      <td>1.487313e-15</td>\n",
       "      <td>-5.556467e-16</td>\n",
       "      <td>1.213481e-16</td>\n",
       "      <td>-2.406331e-15</td>\n",
       "      <td>...</td>\n",
       "      <td>1.654067e-16</td>\n",
       "      <td>-3.568593e-16</td>\n",
       "      <td>2.578648e-16</td>\n",
       "      <td>4.473266e-15</td>\n",
       "      <td>5.340915e-16</td>\n",
       "      <td>1.683437e-15</td>\n",
       "      <td>-3.660091e-16</td>\n",
       "      <td>-1.227390e-16</td>\n",
       "      <td>88.349619</td>\n",
       "      <td>0.001727</td>\n",
       "    </tr>\n",
       "    <tr>\n",
       "      <th>std</th>\n",
       "      <td>47488.145955</td>\n",
       "      <td>1.958696e+00</td>\n",
       "      <td>1.651309e+00</td>\n",
       "      <td>1.516255e+00</td>\n",
       "      <td>1.415869e+00</td>\n",
       "      <td>1.380247e+00</td>\n",
       "      <td>1.332271e+00</td>\n",
       "      <td>1.237094e+00</td>\n",
       "      <td>1.194353e+00</td>\n",
       "      <td>1.098632e+00</td>\n",
       "      <td>...</td>\n",
       "      <td>7.345240e-01</td>\n",
       "      <td>7.257016e-01</td>\n",
       "      <td>6.244603e-01</td>\n",
       "      <td>6.056471e-01</td>\n",
       "      <td>5.212781e-01</td>\n",
       "      <td>4.822270e-01</td>\n",
       "      <td>4.036325e-01</td>\n",
       "      <td>3.300833e-01</td>\n",
       "      <td>250.120109</td>\n",
       "      <td>0.041527</td>\n",
       "    </tr>\n",
       "    <tr>\n",
       "      <th>min</th>\n",
       "      <td>0.000000</td>\n",
       "      <td>-5.640751e+01</td>\n",
       "      <td>-7.271573e+01</td>\n",
       "      <td>-4.832559e+01</td>\n",
       "      <td>-5.683171e+00</td>\n",
       "      <td>-1.137433e+02</td>\n",
       "      <td>-2.616051e+01</td>\n",
       "      <td>-4.355724e+01</td>\n",
       "      <td>-7.321672e+01</td>\n",
       "      <td>-1.343407e+01</td>\n",
       "      <td>...</td>\n",
       "      <td>-3.483038e+01</td>\n",
       "      <td>-1.093314e+01</td>\n",
       "      <td>-4.480774e+01</td>\n",
       "      <td>-2.836627e+00</td>\n",
       "      <td>-1.029540e+01</td>\n",
       "      <td>-2.604551e+00</td>\n",
       "      <td>-2.256568e+01</td>\n",
       "      <td>-1.543008e+01</td>\n",
       "      <td>0.000000</td>\n",
       "      <td>0.000000</td>\n",
       "    </tr>\n",
       "    <tr>\n",
       "      <th>25%</th>\n",
       "      <td>54201.500000</td>\n",
       "      <td>-9.203734e-01</td>\n",
       "      <td>-5.985499e-01</td>\n",
       "      <td>-8.903648e-01</td>\n",
       "      <td>-8.486401e-01</td>\n",
       "      <td>-6.915971e-01</td>\n",
       "      <td>-7.682956e-01</td>\n",
       "      <td>-5.540759e-01</td>\n",
       "      <td>-2.086297e-01</td>\n",
       "      <td>-6.430976e-01</td>\n",
       "      <td>...</td>\n",
       "      <td>-2.283949e-01</td>\n",
       "      <td>-5.423504e-01</td>\n",
       "      <td>-1.618463e-01</td>\n",
       "      <td>-3.545861e-01</td>\n",
       "      <td>-3.171451e-01</td>\n",
       "      <td>-3.269839e-01</td>\n",
       "      <td>-7.083953e-02</td>\n",
       "      <td>-5.295979e-02</td>\n",
       "      <td>5.600000</td>\n",
       "      <td>0.000000</td>\n",
       "    </tr>\n",
       "    <tr>\n",
       "      <th>50%</th>\n",
       "      <td>84692.000000</td>\n",
       "      <td>1.810880e-02</td>\n",
       "      <td>6.548556e-02</td>\n",
       "      <td>1.798463e-01</td>\n",
       "      <td>-1.984653e-02</td>\n",
       "      <td>-5.433583e-02</td>\n",
       "      <td>-2.741871e-01</td>\n",
       "      <td>4.010308e-02</td>\n",
       "      <td>2.235804e-02</td>\n",
       "      <td>-5.142873e-02</td>\n",
       "      <td>...</td>\n",
       "      <td>-2.945017e-02</td>\n",
       "      <td>6.781943e-03</td>\n",
       "      <td>-1.119293e-02</td>\n",
       "      <td>4.097606e-02</td>\n",
       "      <td>1.659350e-02</td>\n",
       "      <td>-5.213911e-02</td>\n",
       "      <td>1.342146e-03</td>\n",
       "      <td>1.124383e-02</td>\n",
       "      <td>22.000000</td>\n",
       "      <td>0.000000</td>\n",
       "    </tr>\n",
       "    <tr>\n",
       "      <th>75%</th>\n",
       "      <td>139320.500000</td>\n",
       "      <td>1.315642e+00</td>\n",
       "      <td>8.037239e-01</td>\n",
       "      <td>1.027196e+00</td>\n",
       "      <td>7.433413e-01</td>\n",
       "      <td>6.119264e-01</td>\n",
       "      <td>3.985649e-01</td>\n",
       "      <td>5.704361e-01</td>\n",
       "      <td>3.273459e-01</td>\n",
       "      <td>5.971390e-01</td>\n",
       "      <td>...</td>\n",
       "      <td>1.863772e-01</td>\n",
       "      <td>5.285536e-01</td>\n",
       "      <td>1.476421e-01</td>\n",
       "      <td>4.395266e-01</td>\n",
       "      <td>3.507156e-01</td>\n",
       "      <td>2.409522e-01</td>\n",
       "      <td>9.104512e-02</td>\n",
       "      <td>7.827995e-02</td>\n",
       "      <td>77.165000</td>\n",
       "      <td>0.000000</td>\n",
       "    </tr>\n",
       "    <tr>\n",
       "      <th>max</th>\n",
       "      <td>172792.000000</td>\n",
       "      <td>2.454930e+00</td>\n",
       "      <td>2.205773e+01</td>\n",
       "      <td>9.382558e+00</td>\n",
       "      <td>1.687534e+01</td>\n",
       "      <td>3.480167e+01</td>\n",
       "      <td>7.330163e+01</td>\n",
       "      <td>1.205895e+02</td>\n",
       "      <td>2.000721e+01</td>\n",
       "      <td>1.559499e+01</td>\n",
       "      <td>...</td>\n",
       "      <td>2.720284e+01</td>\n",
       "      <td>1.050309e+01</td>\n",
       "      <td>2.252841e+01</td>\n",
       "      <td>4.584549e+00</td>\n",
       "      <td>7.519589e+00</td>\n",
       "      <td>3.517346e+00</td>\n",
       "      <td>3.161220e+01</td>\n",
       "      <td>3.384781e+01</td>\n",
       "      <td>25691.160000</td>\n",
       "      <td>1.000000</td>\n",
       "    </tr>\n",
       "  </tbody>\n",
       "</table>\n",
       "<p>8 rows × 31 columns</p>\n",
       "</div>"
      ],
      "text/plain": [
       "                Time            V1            V2            V3            V4  \\\n",
       "count  284807.000000  2.848070e+05  2.848070e+05  2.848070e+05  2.848070e+05   \n",
       "mean    94813.859575  1.168375e-15  3.416908e-16 -1.379537e-15  2.074095e-15   \n",
       "std     47488.145955  1.958696e+00  1.651309e+00  1.516255e+00  1.415869e+00   \n",
       "min         0.000000 -5.640751e+01 -7.271573e+01 -4.832559e+01 -5.683171e+00   \n",
       "25%     54201.500000 -9.203734e-01 -5.985499e-01 -8.903648e-01 -8.486401e-01   \n",
       "50%     84692.000000  1.810880e-02  6.548556e-02  1.798463e-01 -1.984653e-02   \n",
       "75%    139320.500000  1.315642e+00  8.037239e-01  1.027196e+00  7.433413e-01   \n",
       "max    172792.000000  2.454930e+00  2.205773e+01  9.382558e+00  1.687534e+01   \n",
       "\n",
       "                 V5            V6            V7            V8            V9  \\\n",
       "count  2.848070e+05  2.848070e+05  2.848070e+05  2.848070e+05  2.848070e+05   \n",
       "mean   9.604066e-16  1.487313e-15 -5.556467e-16  1.213481e-16 -2.406331e-15   \n",
       "std    1.380247e+00  1.332271e+00  1.237094e+00  1.194353e+00  1.098632e+00   \n",
       "min   -1.137433e+02 -2.616051e+01 -4.355724e+01 -7.321672e+01 -1.343407e+01   \n",
       "25%   -6.915971e-01 -7.682956e-01 -5.540759e-01 -2.086297e-01 -6.430976e-01   \n",
       "50%   -5.433583e-02 -2.741871e-01  4.010308e-02  2.235804e-02 -5.142873e-02   \n",
       "75%    6.119264e-01  3.985649e-01  5.704361e-01  3.273459e-01  5.971390e-01   \n",
       "max    3.480167e+01  7.330163e+01  1.205895e+02  2.000721e+01  1.559499e+01   \n",
       "\n",
       "       ...           V21           V22           V23           V24  \\\n",
       "count  ...  2.848070e+05  2.848070e+05  2.848070e+05  2.848070e+05   \n",
       "mean   ...  1.654067e-16 -3.568593e-16  2.578648e-16  4.473266e-15   \n",
       "std    ...  7.345240e-01  7.257016e-01  6.244603e-01  6.056471e-01   \n",
       "min    ... -3.483038e+01 -1.093314e+01 -4.480774e+01 -2.836627e+00   \n",
       "25%    ... -2.283949e-01 -5.423504e-01 -1.618463e-01 -3.545861e-01   \n",
       "50%    ... -2.945017e-02  6.781943e-03 -1.119293e-02  4.097606e-02   \n",
       "75%    ...  1.863772e-01  5.285536e-01  1.476421e-01  4.395266e-01   \n",
       "max    ...  2.720284e+01  1.050309e+01  2.252841e+01  4.584549e+00   \n",
       "\n",
       "                V25           V26           V27           V28         Amount  \\\n",
       "count  2.848070e+05  2.848070e+05  2.848070e+05  2.848070e+05  284807.000000   \n",
       "mean   5.340915e-16  1.683437e-15 -3.660091e-16 -1.227390e-16      88.349619   \n",
       "std    5.212781e-01  4.822270e-01  4.036325e-01  3.300833e-01     250.120109   \n",
       "min   -1.029540e+01 -2.604551e+00 -2.256568e+01 -1.543008e+01       0.000000   \n",
       "25%   -3.171451e-01 -3.269839e-01 -7.083953e-02 -5.295979e-02       5.600000   \n",
       "50%    1.659350e-02 -5.213911e-02  1.342146e-03  1.124383e-02      22.000000   \n",
       "75%    3.507156e-01  2.409522e-01  9.104512e-02  7.827995e-02      77.165000   \n",
       "max    7.519589e+00  3.517346e+00  3.161220e+01  3.384781e+01   25691.160000   \n",
       "\n",
       "               Class  \n",
       "count  284807.000000  \n",
       "mean        0.001727  \n",
       "std         0.041527  \n",
       "min         0.000000  \n",
       "25%         0.000000  \n",
       "50%         0.000000  \n",
       "75%         0.000000  \n",
       "max         1.000000  \n",
       "\n",
       "[8 rows x 31 columns]"
      ]
     },
     "execution_count": 19,
     "metadata": {},
     "output_type": "execute_result"
    }
   ],
   "source": [
    "# Importing the dataset\n",
    "dataset = pd.read_csv('creditcard.csv')\n",
    "dataset.describe()"
   ]
  },
  {
   "cell_type": "code",
   "execution_count": 20,
   "id": "99ad71dea1cd4dce",
   "metadata": {
    "ExecuteTime": {
     "end_time": "2024-03-28T02:39:17.053456Z",
     "start_time": "2024-03-28T02:39:17.039475Z"
    },
    "collapsed": false
   },
   "outputs": [
    {
     "name": "stdout",
     "output_type": "stream",
     "text": [
      "The dataset has 284807 rows and 31 columns.\n"
     ]
    }
   ],
   "source": [
    "print(\"The dataset has {} rows and {} columns.\".format(dataset.shape[0], dataset.shape[1]))"
   ]
  },
  {
   "cell_type": "code",
   "execution_count": 21,
   "id": "2e18f82cf10b5f2f",
   "metadata": {
    "ExecuteTime": {
     "end_time": "2024-03-28T02:39:19.861374Z",
     "start_time": "2024-03-28T02:39:19.686547Z"
    },
    "collapsed": false
   },
   "outputs": [
    {
     "name": "stdout",
     "output_type": "stream",
     "text": [
      "The X_shape and y_shape is :  (284807, 30) (284807,)\n"
     ]
    },
    {
     "data": {
      "text/plain": [
       "False"
      ]
     },
     "execution_count": 21,
     "metadata": {},
     "output_type": "execute_result"
    }
   ],
   "source": [
    "columns = dataset.columns.tolist()\n",
    "columns = [c for c in columns if c not in [\"Class\"]]\n",
    "target = \"Class\"\n",
    "state = np.random.RandomState(42)\n",
    "X = dataset[columns]\n",
    "y = dataset[target]\n",
    "X_outliers = state.uniform(size=(X.shape[0],X.shape[1]))\n",
    "print(\"The X_shape and y_shape is : \",X.shape,y.shape)\n",
    "dataset.isnull().values.any()"
   ]
  },
  {
   "cell_type": "code",
   "execution_count": 31,
   "id": "de41325b1519472b",
   "metadata": {
    "ExecuteTime": {
     "end_time": "2024-03-28T02:44:36.450991Z",
     "start_time": "2024-03-28T02:44:36.328457Z"
    },
    "collapsed": false
   },
   "outputs": [
    {
     "data": {
      "text/plain": [
       "Text(0, 0.5, 'frequency')"
      ]
     },
     "execution_count": 31,
     "metadata": {},
     "output_type": "execute_result"
    },
    {
     "data": {
      "image/png": "[encoded data removed]",
      "text/plain": [
       "<Figure size 640x480 with 1 Axes>"
      ]
     },
     "metadata": {},
     "output_type": "display_data"
    }
   ],
   "source": [
    "count_classes = pd.value_counts(dataset['Class'],sort=True)\n",
    "count_classes.plot(kind='bar',rot =0)\n",
    "plt.title(\"transactions class distributions\")\n",
    "LABELS = ['Normal','Fraud']\n",
    "plt.xticks(range(2),LABELS)\n",
    "plt.xlabel('Class')\n",
    "plt.ylabel('frequency')\n",
    "#You can see this the dataset is imbalanced "
   ]
  },
  {
   "cell_type": "code",
   "execution_count": 32,
   "id": "c09698fd29e26bf0",
   "metadata": {
    "ExecuteTime": {
     "end_time": "2024-03-28T02:44:41.453698Z",
     "start_time": "2024-03-28T02:44:41.412690Z"
    },
    "collapsed": false
   },
   "outputs": [
    {
     "name": "stdout",
     "output_type": "stream",
     "text": [
      "Fraud Shape is  (492, 31) Normal Transaction shape is  (284315, 31)\n"
     ]
    }
   ],
   "source": [
    "fraud = dataset[dataset['Class']==1]\n",
    "normal = dataset[dataset['Class']==0]\n",
    "print(\"Fraud Shape is \",fraud.shape,\"Normal Transaction shape is \",normal.shape)"
   ]
  },
  {
   "cell_type": "code",
   "execution_count": 24,
   "id": "67a8c2245289a48b",
   "metadata": {
    "ExecuteTime": {
     "end_time": "2024-03-28T02:39:23.645651Z",
     "start_time": "2024-03-28T02:39:23.629965Z"
    },
    "collapsed": false
   },
   "outputs": [],
   "source": [
    "# creating a function in which we pass dataset and it give the result of model\n",
    "def model(X,y):\n",
    "    X_train,X_test,y_train,y_test = train_test_split(X,y,test_size=0.2,random_state=42)\n",
    "    from sklearn.linear_model import LogisticRegression\n",
    "    model = LogisticRegression(max_iter=1000)\n",
    "    model = model.fit(X_train,y_train)\n",
    "    y_pred = model.predict(X_test)\n",
    "    print(\"Confusion Matrix : \",confusion_matrix(y_test,y_pred))\n",
    "    print(\"Accuracy Score : \",accuracy_score(y_test,y_pred))\n",
    "    print(\"Classification Report : \",classification_report(y_test,y_pred))"
   ]
  },
  {
   "cell_type": "code",
   "execution_count": 36,
   "id": "1639682677b3cdfb",
   "metadata": {
    "ExecuteTime": {
     "end_time": "2024-03-28T02:52:09.967748Z",
     "start_time": "2024-03-28T02:52:09.532073Z"
    },
    "collapsed": false
   },
   "outputs": [
    {
     "name": "stdout",
     "output_type": "stream",
     "text": [
      "The shape of X_res : y_res is  (984, 30) : (984,)\n",
      "Original dataset shape : Counter({0: 284315, 1: 492})\n",
      "Resampled dataset shape : Counter({0: 492, 1: 492})\n"
     ]
    },
    {
     "data": {
      "text/plain": [
       "Text(0, 0.5, 'frequency')"
      ]
     },
     "execution_count": 36,
     "metadata": {},
     "output_type": "execute_result"
    },
    {
     "data": {
      "image/png": "[encoded data removed]",
      "text/plain": [
       "<Figure size 640x480 with 1 Axes>"
      ]
     },
     "metadata": {},
     "output_type": "display_data"
    }
   ],
   "source": [
    "#As mention in assignment we can use python libraries \n",
    "#Using Under Sampling Libraries\n",
    "# (1) Random Under-Sampling\n",
    "from imblearn.under_sampling import NearMiss\n",
    "nm = NearMiss()\n",
    "X_res_under, y_res_under = nm.fit_resample(X,y)\n",
    "print(\"The shape of X_res : y_res is \",X_res_under.shape,\":\",y_res_under.shape)\n",
    "#Change is dataset after under sampling\n",
    "from collections import Counter\n",
    "print(f\"Original dataset shape : {Counter(y)}\")\n",
    "print(f\"Resampled dataset shape : {Counter(y_res_under)}\")\n",
    "y_res_under_classes_count = pd.value_counts(y_res_under,sort=True)\n",
    "y_res_under_classes_count.plot(kind='bar',rot =0)\n",
    "plt.title(\"transactions class distributions\")\n",
    "plt.xticks(range(2),LABELS)\n",
    "plt.xlabel('Class')\n",
    "plt.ylabel('frequency')"
   ]
  },
  {
   "cell_type": "code",
   "execution_count": 37,
   "id": "ac2c5422da5732e",
   "metadata": {
    "ExecuteTime": {
     "end_time": "2024-03-28T02:52:31.735105Z",
     "start_time": "2024-03-28T02:52:31.686105Z"
    },
    "collapsed": false
   },
   "outputs": [
    {
     "name": "stdout",
     "output_type": "stream",
     "text": [
      "Confusion Matrix :  [[95  4]\n",
      " [ 7 91]]\n",
      "Accuracy Score :  0.9441624365482234\n",
      "Classification Report :                precision    recall  f1-score   support\n",
      "\n",
      "           0       0.93      0.96      0.95        99\n",
      "           1       0.96      0.93      0.94        98\n",
      "\n",
      "    accuracy                           0.94       197\n",
      "   macro avg       0.94      0.94      0.94       197\n",
      "weighted avg       0.94      0.94      0.94       197\n"
     ]
    }
   ],
   "source": [
    "model(X_res_under,y_res_under)"
   ]
  },
  {
   "cell_type": "code",
   "execution_count": 38,
   "id": "5866a164e303ffb1",
   "metadata": {
    "ExecuteTime": {
     "end_time": "2024-03-28T02:53:29.851700Z",
     "start_time": "2024-03-28T02:53:29.545973Z"
    },
    "collapsed": false
   },
   "outputs": [
    {
     "name": "stdout",
     "output_type": "stream",
     "text": [
      "The shape of X_res : y_res is  (568630, 30) : (568630,)\n",
      "Original dataset shape : Counter({0: 284315, 1: 492})\n",
      "Resampled dataset shape : Counter({0: 284315, 1: 284315})\n"
     ]
    },
    {
     "data": {
      "text/plain": [
       "Text(0, 0.5, 'frequency')"
      ]
     },
     "execution_count": 38,
     "metadata": {},
     "output_type": "execute_result"
    },
    {
     "data": {
      "image/png": "[encoded data removed]",
      "text/plain": [
       "<Figure size 640x480 with 1 Axes>"
      ]
     },
     "metadata": {},
     "output_type": "display_data"
    }
   ],
   "source": [
    "# (2) Random Over-Sampling\n",
    "from imblearn.over_sampling import RandomOverSampler\n",
    "ros = RandomOverSampler()\n",
    "X_res_over, y_res_over = ros.fit_resample(X,y)\n",
    "print(\"The shape of X_res : y_res is \",X_res_over.shape,\":\",y_res_over.shape)\n",
    "#Change is dataset after under sampling\n",
    "from collections import Counter\n",
    "print(f\"Original dataset shape : {Counter(y)}\")\n",
    "print(f\"Resampled dataset shape : {Counter(y_res_over)}\")\n",
    "y_res_over_classes_count = pd.value_counts(y_res_over,sort=True)\n",
    "y_res_over_classes_count.plot(kind='bar',rot =0)\n",
    "plt.title(\"transactions class distributions\")\n",
    "plt.xticks(range(2),LABELS)\n",
    "plt.xlabel('Class')\n",
    "plt.ylabel('frequency')"
   ]
  },
  {
   "cell_type": "code",
   "execution_count": 39,
   "id": "7d3b62ce7680926d",
   "metadata": {
    "ExecuteTime": {
     "end_time": "2024-03-28T02:53:38.640210Z",
     "start_time": "2024-03-28T02:53:35.471464Z"
    },
    "collapsed": false
   },
   "outputs": [
    {
     "name": "stdout",
     "output_type": "stream",
     "text": [
      "Confusion Matrix :  [[54840  1910]\n",
      " [ 4279 52697]]\n",
      "Accuracy Score :  0.9455797267115699\n",
      "Classification Report :                precision    recall  f1-score   support\n",
      "\n",
      "           0       0.93      0.97      0.95     56750\n",
      "           1       0.97      0.92      0.94     56976\n",
      "\n",
      "    accuracy                           0.95    113726\n",
      "   macro avg       0.95      0.95      0.95    113726\n",
      "weighted avg       0.95      0.95      0.95    113726\n"
     ]
    }
   ],
   "source": [
    "model(X_res_over,y_res_over)"
   ]
  },
  {
   "cell_type": "code",
   "execution_count": 40,
   "id": "534608ed5c07cd40",
   "metadata": {
    "ExecuteTime": {
     "end_time": "2024-03-28T02:55:09.075244Z",
     "start_time": "2024-03-28T02:55:08.528926Z"
    },
    "collapsed": false
   },
   "outputs": [
    {
     "name": "stdout",
     "output_type": "stream",
     "text": [
      "The shape of X_res : y_res is  (568630, 30) : (568630,)\n",
      "Original dataset shape : Counter({0: 284315, 1: 492})\n",
      "Resampled dataset shape : Counter({0: 284315, 1: 284315})\n"
     ]
    },
    {
     "data": {
      "text/plain": [
       "Text(0, 0.5, 'frequency')"
      ]
     },
     "execution_count": 40,
     "metadata": {},
     "output_type": "execute_result"
    },
    {
     "data": {
      "image/png": "[encoded data removed]",
      "text/plain": [
       "<Figure size 640x480 with 1 Axes>"
      ]
     },
     "metadata": {},
     "output_type": "display_data"
    }
   ],
   "source": [
    "# (3) Synthetic Minority Over-sampling Technique (SMOTE)\n",
    "from imblearn.over_sampling import SMOTE\n",
    "smote = SMOTE()\n",
    "X_res_smote, y_res_smote = smote.fit_resample(X,y)\n",
    "print(\"The shape of X_res : y_res is \",X_res_smote.shape,\":\",y_res_smote.shape)\n",
    "#Change is dataset after under sampling\n",
    "from collections import Counter\n",
    "print(f\"Original dataset shape : {Counter(y)}\")\n",
    "print(f\"Resampled dataset shape : {Counter(y_res_smote)}\")\n",
    "y_res_under_classes_count = pd.value_counts(y_res_smote,sort=True)\n",
    "y_res_under_classes_count.plot(kind='bar',rot =0)\n",
    "plt.title(\"transactions class distributions\")\n",
    "plt.xticks(range(2),LABELS)\n",
    "plt.xlabel('Class')\n",
    "plt.ylabel('frequency')"
   ]
  },
  {
   "cell_type": "code",
   "execution_count": 41,
   "id": "9cdf119943a04380",
   "metadata": {
    "ExecuteTime": {
     "end_time": "2024-03-28T02:55:17.923624Z",
     "start_time": "2024-03-28T02:55:14.790955Z"
    },
    "collapsed": false
   },
   "outputs": [
    {
     "name": "stdout",
     "output_type": "stream",
     "text": [
      "Confusion Matrix :  [[55749  1001]\n",
      " [ 2046 54930]]\n",
      "Accuracy Score :  0.9732075338972619\n",
      "Classification Report :                precision    recall  f1-score   support\n",
      "\n",
      "           0       0.96      0.98      0.97     56750\n",
      "           1       0.98      0.96      0.97     56976\n",
      "\n",
      "    accuracy                           0.97    113726\n",
      "   macro avg       0.97      0.97      0.97    113726\n",
      "weighted avg       0.97      0.97      0.97    113726\n"
     ]
    }
   ],
   "source": [
    "model(X_res_smote,y_res_smote)"
   ]
  },
  {
   "cell_type": "code",
   "execution_count": 42,
   "id": "875f0c0057365971",
   "metadata": {
    "ExecuteTime": {
     "end_time": "2024-03-28T02:56:37.992627Z",
     "start_time": "2024-03-28T02:56:37.264114Z"
    },
    "collapsed": false
   },
   "outputs": [
    {
     "name": "stdout",
     "output_type": "stream",
     "text": [
      "The shape of X_res : y_res is  (984, 30) : (984,)\n",
      "Original dataset shape : Counter({0: 284315, 1: 492})\n",
      "Resampled dataset shape : Counter({0: 284315, 1: 284298})\n"
     ]
    },
    {
     "data": {
      "text/plain": [
       "Text(0, 0.5, 'frequency')"
      ]
     },
     "execution_count": 42,
     "metadata": {},
     "output_type": "execute_result"
    },
    {
     "data": {
      "image/png": "[encoded data removed]",
      "text/plain": [
       "<Figure size 640x480 with 1 Axes>"
      ]
     },
     "metadata": {},
     "output_type": "display_data"
    }
   ],
   "source": [
    "# (4) Adaptive Synthetic Sampling (ASYNC)\n",
    "from imblearn.over_sampling import ADASYN\n",
    "adasyn = ADASYN()\n",
    "X_res_adasyn, y_res_adasyn = adasyn.fit_resample(X,y)\n",
    "print(\"The shape of X_res : y_res is \",X_res.shape,\":\",y_res.shape)\n",
    "#Change is dataset after under sampling\n",
    "from collections import Counter\n",
    "print(f\"Original dataset shape : {Counter(y)}\")\n",
    "print(f\"Resampled dataset shape : {Counter(y_res_adasyn)}\")\n",
    "y_res_adasyn_classes_count = pd.value_counts(y_res_adasyn,sort=True)\n",
    "y_res_adasyn_classes_count.plot(kind='bar',rot =0)\n",
    "plt.title(\"transactions class distributions\")\n",
    "plt.xticks(range(2),LABELS)\n",
    "plt.xlabel('Class')\n",
    "plt.ylabel('frequency')"
   ]
  },
  {
   "cell_type": "code",
   "execution_count": 43,
   "id": "aa75e3361ffcabb3",
   "metadata": {
    "ExecuteTime": {
     "end_time": "2024-03-28T02:56:56.272513Z",
     "start_time": "2024-03-28T02:56:53.394054Z"
    },
    "collapsed": false
   },
   "outputs": [
    {
     "name": "stdout",
     "output_type": "stream",
     "text": [
      "Confusion Matrix :  [[55762  1045]\n",
      " [ 2182 54734]]\n",
      "Accuracy Score :  0.971624033836603\n",
      "Classification Report :                precision    recall  f1-score   support\n",
      "\n",
      "           0       0.96      0.98      0.97     56807\n",
      "           1       0.98      0.96      0.97     56916\n",
      "\n",
      "    accuracy                           0.97    113723\n",
      "   macro avg       0.97      0.97      0.97    113723\n",
      "weighted avg       0.97      0.97      0.97    113723\n"
     ]
    }
   ],
   "source": [
    "model(X_res_adasyn,y_res_adasyn)"
   ]
  },
  {
   "cell_type": "code",
   "execution_count": null,
   "id": "b0b39bda2150381c",
   "metadata": {
    "collapsed": false
   },
   "outputs": [],
   "source": []
  }
 ],
 "metadata": {
  "kernelspec": {
   "display_name": "Python 3",
   "language": "python",
   "name": "python3"
  },
  "language_info": {
   "codemirror_mode": {
    "name": "ipython",
    "version": 3
   },
   "file_extension": ".py",
   "mimetype": "text/x-python",
   "name": "python",
   "nbconvert_exporter": "python",
   "pygments_lexer": "ipython3",
   "version": "3.10.13"
  }
 },
 "nbformat": 4,
 "nbformat_minor": 5
}
